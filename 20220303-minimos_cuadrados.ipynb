{
  "nbformat": 4,
  "nbformat_minor": 0,
  "metadata": {
    "colab": {
      "name": "Práctica1.ipynb",
      "provenance": [],
      "authorship_tag": "ABX9TyPMZNpeEhMaWnvPxdYjbIf1"
    },
    "kernelspec": {
      "name": "python3",
      "display_name": "Python 3"
    },
    "language_info": {
      "name": "python"
    }
  },
  "cells": [
    {
      "cell_type": "markdown",
      "source": [
        "# Trabajando con mínimos cuadrados\n"
      ],
      "metadata": {
        "id": "qKqwZ1VHg5Vo"
      }
    },
    {
      "cell_type": "code",
      "source": [
        "import numpy as np\n",
        "import pandas as pd\n",
        "from scipy import optimize "
      ],
      "metadata": {
        "id": "WjxiiSUDhRmx"
      },
      "execution_count": 1,
      "outputs": []
    },
    {
      "cell_type": "markdown",
      "source": [
        "## Trabajando con la encuesta"
      ],
      "metadata": {
        "id": "-QmQ2ZqQqNUH"
      }
    },
    {
      "cell_type": "code",
      "source": [
        "data = pd.read_csv('<url_al_csv>')"
      ],
      "metadata": {
        "id": "GQbZOae3hVp-"
      },
      "execution_count": null,
      "outputs": []
    },
    {
      "cell_type": "code",
      "source": [
        ""
      ],
      "metadata": {
        "id": "TsCIpm1FqRmm"
      },
      "execution_count": null,
      "outputs": []
    },
    {
      "cell_type": "markdown",
      "source": [
        "## Ajustando temperaturas"
      ],
      "metadata": {
        "id": "Zwviv2RDqTuJ"
      }
    },
    {
      "cell_type": "code",
      "source": [
        "temp_data = pd.DataFrame({ \n",
        "    'temp_max': [17,  19,  21,  28,  33,  38, 37,  37,  31,  23,  19,  18] , \n",
        "    'temp_min': [-62, -59, -56, -46, -32, -18, -9, -13, -25, -46, -52, -58]\n",
        "    }, index = np.arange(12) + 1)"
      ],
      "metadata": {
        "id": "FYBgGMEzqa-e"
      },
      "execution_count": 4,
      "outputs": []
    },
    {
      "cell_type": "markdown",
      "source": [
        "Usaremos la función `optimize.curve_fitting`"
      ],
      "metadata": {
        "id": "SU7TzmjbsET_"
      }
    },
    {
      "cell_type": "code",
      "source": [
        ""
      ],
      "metadata": {
        "id": "KvFQ9Ty3tPKa"
      },
      "execution_count": null,
      "outputs": []
    }
  ]
}