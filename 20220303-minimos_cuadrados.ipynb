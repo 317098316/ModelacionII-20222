{
  "nbformat": 4,
  "nbformat_minor": 0,
  "metadata": {
    "colab": {
      "name": "Práctica1.ipynb",
      "provenance": [],
      "authorship_tag": "ABX9TyPa8OL2OCEfOg5vY5v44YB3"
    },
    "kernelspec": {
      "name": "python3",
      "display_name": "Python 3"
    },
    "language_info": {
      "name": "python"
    }
  },
  "cells": [
    {
      "cell_type": "markdown",
      "source": [
        "# Trabajando con mínimos cuadrados\n"
      ],
      "metadata": {
        "id": "qKqwZ1VHg5Vo"
      }
    },
    {
      "cell_type": "code",
      "source": [
        "import numpy as np\n",
        "import pandas as pd"
      ],
      "metadata": {
        "id": "WjxiiSUDhRmx"
      },
      "execution_count": null,
      "outputs": []
    },
    {
      "cell_type": "code",
      "source": [
        "data = pd.read_csv('<url_al_csv>')"
      ],
      "metadata": {
        "id": "GQbZOae3hVp-"
      },
      "execution_count": null,
      "outputs": []
    }
  ]
}